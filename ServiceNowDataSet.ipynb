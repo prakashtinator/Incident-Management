{
 "cells": [
  {
   "cell_type": "markdown",
   "id": "576c83b3-8bfe-4ba9-b24d-28114b83d5dc",
   "metadata": {},
   "source": [
    "# Introduction: Predicting incident priority based on selected attributes\n",
    "\n",
    "\n",
    "As part of this study, we are going to use publicly available dataset of incident logs collected from an incident management tool called ServiceNow. The data is anonymized for the sake of privacy, but is fit for our current goal\n",
    "\n",
    "https://archive.ics.uci.edu/ml/datasets/Incident+management+process+enriched+event+log\n",
    "\n",
    "#### In the below code, I have tried to explain the steps as much as possible. I have imported the libraries at the point of use, instead of in the beginning in order to improve code readability.\n"
   ]
  },
  {
   "cell_type": "code",
   "execution_count": 377,
   "id": "1f8277a3-4697-42ef-91f3-685f85208bca",
   "metadata": {},
   "outputs": [],
   "source": [
    "import numpy as np\n",
    "import pandas as pd\n",
    "import matplotlib.pyplot as plt"
   ]
  },
  {
   "cell_type": "code",
   "execution_count": 378,
   "id": "d7f6bc60-3ce3-45c7-8a7c-3be0ed7eb96a",
   "metadata": {},
   "outputs": [],
   "source": [
    "SNow = pd.read_csv('incident_event_log.csv')"
   ]
  },
  {
   "cell_type": "code",
   "execution_count": 379,
   "id": "1b76b33e-993d-4bfe-b5bc-43422de0c3bf",
   "metadata": {},
   "outputs": [
    {
     "data": {
      "text/html": [
       "<div>\n",
       "<style scoped>\n",
       "    .dataframe tbody tr th:only-of-type {\n",
       "        vertical-align: middle;\n",
       "    }\n",
       "\n",
       "    .dataframe tbody tr th {\n",
       "        vertical-align: top;\n",
       "    }\n",
       "\n",
       "    .dataframe thead th {\n",
       "        text-align: right;\n",
       "    }\n",
       "</style>\n",
       "<table border=\"1\" class=\"dataframe\">\n",
       "  <thead>\n",
       "    <tr style=\"text-align: right;\">\n",
       "      <th></th>\n",
       "      <th>number</th>\n",
       "      <th>incident_state</th>\n",
       "      <th>active</th>\n",
       "      <th>reassignment_count</th>\n",
       "      <th>reopen_count</th>\n",
       "      <th>sys_mod_count</th>\n",
       "      <th>made_sla</th>\n",
       "      <th>caller_id</th>\n",
       "      <th>opened_by</th>\n",
       "      <th>opened_at</th>\n",
       "      <th>...</th>\n",
       "      <th>u_priority_confirmation</th>\n",
       "      <th>notify</th>\n",
       "      <th>problem_id</th>\n",
       "      <th>rfc</th>\n",
       "      <th>vendor</th>\n",
       "      <th>caused_by</th>\n",
       "      <th>closed_code</th>\n",
       "      <th>resolved_by</th>\n",
       "      <th>resolved_at</th>\n",
       "      <th>closed_at</th>\n",
       "    </tr>\n",
       "  </thead>\n",
       "  <tbody>\n",
       "    <tr>\n",
       "      <th>0</th>\n",
       "      <td>INC0000045</td>\n",
       "      <td>New</td>\n",
       "      <td>True</td>\n",
       "      <td>0</td>\n",
       "      <td>0</td>\n",
       "      <td>0</td>\n",
       "      <td>True</td>\n",
       "      <td>Caller 2403</td>\n",
       "      <td>Opened by  8</td>\n",
       "      <td>29/2/2016 01:16</td>\n",
       "      <td>...</td>\n",
       "      <td>False</td>\n",
       "      <td>Do Not Notify</td>\n",
       "      <td>?</td>\n",
       "      <td>?</td>\n",
       "      <td>?</td>\n",
       "      <td>?</td>\n",
       "      <td>code 5</td>\n",
       "      <td>Resolved by 149</td>\n",
       "      <td>29/2/2016 11:29</td>\n",
       "      <td>5/3/2016 12:00</td>\n",
       "    </tr>\n",
       "    <tr>\n",
       "      <th>1</th>\n",
       "      <td>INC0000045</td>\n",
       "      <td>Resolved</td>\n",
       "      <td>True</td>\n",
       "      <td>0</td>\n",
       "      <td>0</td>\n",
       "      <td>2</td>\n",
       "      <td>True</td>\n",
       "      <td>Caller 2403</td>\n",
       "      <td>Opened by  8</td>\n",
       "      <td>29/2/2016 01:16</td>\n",
       "      <td>...</td>\n",
       "      <td>False</td>\n",
       "      <td>Do Not Notify</td>\n",
       "      <td>?</td>\n",
       "      <td>?</td>\n",
       "      <td>?</td>\n",
       "      <td>?</td>\n",
       "      <td>code 5</td>\n",
       "      <td>Resolved by 149</td>\n",
       "      <td>29/2/2016 11:29</td>\n",
       "      <td>5/3/2016 12:00</td>\n",
       "    </tr>\n",
       "    <tr>\n",
       "      <th>2</th>\n",
       "      <td>INC0000045</td>\n",
       "      <td>Resolved</td>\n",
       "      <td>True</td>\n",
       "      <td>0</td>\n",
       "      <td>0</td>\n",
       "      <td>3</td>\n",
       "      <td>True</td>\n",
       "      <td>Caller 2403</td>\n",
       "      <td>Opened by  8</td>\n",
       "      <td>29/2/2016 01:16</td>\n",
       "      <td>...</td>\n",
       "      <td>False</td>\n",
       "      <td>Do Not Notify</td>\n",
       "      <td>?</td>\n",
       "      <td>?</td>\n",
       "      <td>?</td>\n",
       "      <td>?</td>\n",
       "      <td>code 5</td>\n",
       "      <td>Resolved by 149</td>\n",
       "      <td>29/2/2016 11:29</td>\n",
       "      <td>5/3/2016 12:00</td>\n",
       "    </tr>\n",
       "    <tr>\n",
       "      <th>3</th>\n",
       "      <td>INC0000045</td>\n",
       "      <td>Closed</td>\n",
       "      <td>False</td>\n",
       "      <td>0</td>\n",
       "      <td>0</td>\n",
       "      <td>4</td>\n",
       "      <td>True</td>\n",
       "      <td>Caller 2403</td>\n",
       "      <td>Opened by  8</td>\n",
       "      <td>29/2/2016 01:16</td>\n",
       "      <td>...</td>\n",
       "      <td>False</td>\n",
       "      <td>Do Not Notify</td>\n",
       "      <td>?</td>\n",
       "      <td>?</td>\n",
       "      <td>?</td>\n",
       "      <td>?</td>\n",
       "      <td>code 5</td>\n",
       "      <td>Resolved by 149</td>\n",
       "      <td>29/2/2016 11:29</td>\n",
       "      <td>5/3/2016 12:00</td>\n",
       "    </tr>\n",
       "    <tr>\n",
       "      <th>4</th>\n",
       "      <td>INC0000047</td>\n",
       "      <td>New</td>\n",
       "      <td>True</td>\n",
       "      <td>0</td>\n",
       "      <td>0</td>\n",
       "      <td>0</td>\n",
       "      <td>True</td>\n",
       "      <td>Caller 2403</td>\n",
       "      <td>Opened by  397</td>\n",
       "      <td>29/2/2016 04:40</td>\n",
       "      <td>...</td>\n",
       "      <td>False</td>\n",
       "      <td>Do Not Notify</td>\n",
       "      <td>?</td>\n",
       "      <td>?</td>\n",
       "      <td>?</td>\n",
       "      <td>?</td>\n",
       "      <td>code 5</td>\n",
       "      <td>Resolved by 81</td>\n",
       "      <td>1/3/2016 09:52</td>\n",
       "      <td>6/3/2016 10:00</td>\n",
       "    </tr>\n",
       "  </tbody>\n",
       "</table>\n",
       "<p>5 rows × 36 columns</p>\n",
       "</div>"
      ],
      "text/plain": [
       "       number incident_state  active  reassignment_count  reopen_count  \\\n",
       "0  INC0000045            New    True                   0             0   \n",
       "1  INC0000045       Resolved    True                   0             0   \n",
       "2  INC0000045       Resolved    True                   0             0   \n",
       "3  INC0000045         Closed   False                   0             0   \n",
       "4  INC0000047            New    True                   0             0   \n",
       "\n",
       "   sys_mod_count  made_sla    caller_id       opened_by        opened_at  ...  \\\n",
       "0              0      True  Caller 2403    Opened by  8  29/2/2016 01:16  ...   \n",
       "1              2      True  Caller 2403    Opened by  8  29/2/2016 01:16  ...   \n",
       "2              3      True  Caller 2403    Opened by  8  29/2/2016 01:16  ...   \n",
       "3              4      True  Caller 2403    Opened by  8  29/2/2016 01:16  ...   \n",
       "4              0      True  Caller 2403  Opened by  397  29/2/2016 04:40  ...   \n",
       "\n",
       "  u_priority_confirmation         notify problem_id rfc vendor caused_by  \\\n",
       "0                   False  Do Not Notify          ?   ?      ?         ?   \n",
       "1                   False  Do Not Notify          ?   ?      ?         ?   \n",
       "2                   False  Do Not Notify          ?   ?      ?         ?   \n",
       "3                   False  Do Not Notify          ?   ?      ?         ?   \n",
       "4                   False  Do Not Notify          ?   ?      ?         ?   \n",
       "\n",
       "  closed_code      resolved_by      resolved_at       closed_at  \n",
       "0      code 5  Resolved by 149  29/2/2016 11:29  5/3/2016 12:00  \n",
       "1      code 5  Resolved by 149  29/2/2016 11:29  5/3/2016 12:00  \n",
       "2      code 5  Resolved by 149  29/2/2016 11:29  5/3/2016 12:00  \n",
       "3      code 5  Resolved by 149  29/2/2016 11:29  5/3/2016 12:00  \n",
       "4      code 5   Resolved by 81   1/3/2016 09:52  6/3/2016 10:00  \n",
       "\n",
       "[5 rows x 36 columns]"
      ]
     },
     "execution_count": 379,
     "metadata": {},
     "output_type": "execute_result"
    }
   ],
   "source": [
    "SNow.head() #visualize the data"
   ]
  },
  {
   "cell_type": "markdown",
   "id": "b835e96a-e42c-48b6-8ca4-e2dabb8ca356",
   "metadata": {},
   "source": [
    "# Prepare the data: Data Pre-Processing\n",
    "\n",
    "From the data visualization, we found that there are some columns which have missing information, represented by '?', either in almost all the records or in the majority of records.\n",
    "I decided to drop all those columns where missing information is in more than a third of the total number of rows"
   ]
  },
  {
   "cell_type": "code",
   "execution_count": 380,
   "id": "d1164ec8-b609-4ff0-80ce-311c19f9db33",
   "metadata": {},
   "outputs": [],
   "source": [
    "max_bad = 50000 #max number of missing values\n",
    "SNow2 = SNow.loc[:,[(len(SNow[SNow[x]=='?']) < max_bad) for x in columns]]"
   ]
  },
  {
   "cell_type": "code",
   "execution_count": 385,
   "id": "383b1443-9e84-49f6-bcd8-b3eda0c8eddc",
   "metadata": {},
   "outputs": [
    {
     "name": "stdout",
     "output_type": "stream",
     "text": [
      "<class 'pandas.core.frame.DataFrame'>\n",
      "RangeIndex: 141712 entries, 0 to 141711\n",
      "Columns: 29 entries, number to closed_at\n",
      "dtypes: bool(4), int64(3), object(22)\n",
      "memory usage: 27.6+ MB\n"
     ]
    }
   ],
   "source": [
    "SNow2.info(verbose=False)"
   ]
  },
  {
   "cell_type": "markdown",
   "id": "36a2c8bb-5a4e-4a73-bede-f5a6b237c0ec",
   "metadata": {},
   "source": [
    "From the above, it is apparent that this dataset is huge. Thus, in order to reduce the size, as well as to remove all the, '?', missing information, I decided to remove all rows that contained '?' in any of the columns"
   ]
  },
  {
   "cell_type": "code",
   "execution_count": 391,
   "id": "64fafbc2-54ca-4dcc-8742-875a718fbc8a",
   "metadata": {},
   "outputs": [],
   "source": [
    "SNow2 = SNow2.replace('?',np.nan)"
   ]
  },
  {
   "cell_type": "code",
   "execution_count": 392,
   "id": "00fb98e0-041b-42fb-acaa-4895e20fb7a0",
   "metadata": {},
   "outputs": [],
   "source": [
    "SNow2 = SNow2.dropna(axis = 0)"
   ]
  },
  {
   "cell_type": "code",
   "execution_count": 394,
   "id": "4b27c2b3-1751-44e2-ac00-254e01a19804",
   "metadata": {},
   "outputs": [
    {
     "name": "stdout",
     "output_type": "stream",
     "text": [
      "<class 'pandas.core.frame.DataFrame'>\n",
      "Int64Index: 75230 entries, 4 to 141711\n",
      "Columns: 29 entries, number to closed_at\n",
      "dtypes: bool(4), int64(3), object(22)\n",
      "memory usage: 15.2+ MB\n"
     ]
    }
   ],
   "source": [
    "SNow2.info(verbose=False)"
   ]
  },
  {
   "cell_type": "code",
   "execution_count": 390,
   "id": "ed1f9972-bac3-4991-83f7-a8dfe4c97b8e",
   "metadata": {},
   "outputs": [
    {
     "data": {
      "text/plain": [
       "Index(['number', 'incident_state', 'active', 'reassignment_count',\n",
       "       'reopen_count', 'sys_mod_count', 'made_sla', 'caller_id', 'opened_by',\n",
       "       'opened_at', 'sys_updated_by', 'sys_updated_at', 'contact_type',\n",
       "       'location', 'category', 'subcategory', 'u_symptom', 'impact', 'urgency',\n",
       "       'priority', 'assignment_group', 'assigned_to', 'knowledge',\n",
       "       'u_priority_confirmation', 'notify', 'closed_code', 'resolved_by',\n",
       "       'resolved_at', 'closed_at'],\n",
       "      dtype='object')"
      ]
     },
     "execution_count": 390,
     "metadata": {},
     "output_type": "execute_result"
    }
   ],
   "source": [
    "SNow2.columns"
   ]
  },
  {
   "cell_type": "markdown",
   "id": "a6b35af4-9c8e-441d-987b-83e7d3cfd89e",
   "metadata": {},
   "source": [
    "Now this dataset is much more manageable in size, and not having any missing information as well. \n",
    "\n",
    "Now I am dropping all the columns which do not have impact on the outcome. \n",
    "\n",
    "Impact and Urgency Columns together decide the priority. Since we are already having priority, which is going to be our outcome variable, we can do away with Impact and Urgency."
   ]
  },
  {
   "cell_type": "code",
   "execution_count": 395,
   "id": "f492cdd5-9152-483f-a0fb-fa458d10a1d3",
   "metadata": {},
   "outputs": [],
   "source": [
    "SNow3= SNow2.drop(['number','notify', 'resolved_by','sys_updated_at','impact', 'urgency'], axis=1)"
   ]
  },
  {
   "cell_type": "code",
   "execution_count": 224,
   "id": "74740c78-5f20-4439-bb41-6e3e087e796f",
   "metadata": {},
   "outputs": [
    {
     "name": "stdout",
     "output_type": "stream",
     "text": [
      "['New' 'Active' 'Awaiting User Info' 'Resolved' 'Closed'\n",
      " 'Awaiting Problem' 'Awaiting Vendor' 'Awaiting Evidence']\n"
     ]
    }
   ],
   "source": [
    "print(SNow3['incident_state'].unique())"
   ]
  },
  {
   "cell_type": "markdown",
   "id": "568cbb58-b9bd-404b-8ca7-6ed86fc31e75",
   "metadata": {},
   "source": [
    "We want to keep only the rows which tells us about the Incident New status, since we are trying to predict the priotiy of incidents, which gets decided as soon as an incident is opened (in most of the cases)"
   ]
  },
  {
   "cell_type": "code",
   "execution_count": 397,
   "id": "5a615054-d9ef-46b7-b9bf-5604d91f6c6d",
   "metadata": {},
   "outputs": [],
   "source": [
    "snow_new = SNow3.drop(SNow3[SNow3['incident_state']!='New'].index)"
   ]
  },
  {
   "cell_type": "code",
   "execution_count": 398,
   "id": "4a9b4892-7ddb-4cb5-b312-e634142326c2",
   "metadata": {},
   "outputs": [
    {
     "name": "stdout",
     "output_type": "stream",
     "text": [
      "<class 'pandas.core.frame.DataFrame'>\n",
      "Int64Index: 15268 entries, 4 to 141390\n",
      "Columns: 23 entries, incident_state to closed_at\n",
      "dtypes: bool(4), int64(3), object(16)\n",
      "memory usage: 2.4+ MB\n"
     ]
    }
   ],
   "source": [
    "snow_new.info(verbose=False)"
   ]
  },
  {
   "cell_type": "code",
   "execution_count": 399,
   "id": "7b81b7d7-6c45-4670-930a-0cc579be9835",
   "metadata": {},
   "outputs": [
    {
     "name": "stdout",
     "output_type": "stream",
     "text": [
      "['3 - Moderate' '4 - Low' '2 - High' '1 - Critical']\n"
     ]
    }
   ],
   "source": [
    "# snow_closed.describe\n",
    "print(snow_new['priority'].unique())"
   ]
  },
  {
   "cell_type": "code",
   "execution_count": 400,
   "id": "d94cf66c-f3cd-4582-8dfe-ee2e4d57af33",
   "metadata": {},
   "outputs": [
    {
     "data": {
      "text/plain": [
       "Index(['incident_state', 'active', 'reassignment_count', 'reopen_count',\n",
       "       'sys_mod_count', 'made_sla', 'caller_id', 'opened_by', 'opened_at',\n",
       "       'sys_updated_by', 'contact_type', 'location', 'category', 'subcategory',\n",
       "       'u_symptom', 'priority', 'assignment_group', 'assigned_to', 'knowledge',\n",
       "       'u_priority_confirmation', 'closed_code', 'resolved_at', 'closed_at'],\n",
       "      dtype='object')"
      ]
     },
     "execution_count": 400,
     "metadata": {},
     "output_type": "execute_result"
    }
   ],
   "source": [
    "snow_new.columns"
   ]
  },
  {
   "cell_type": "markdown",
   "id": "68896888-6270-469a-9c8d-91acfc3c9783",
   "metadata": {},
   "source": [
    "Calculate the completion time of the incidents, in number of days"
   ]
  },
  {
   "cell_type": "code",
   "execution_count": 401,
   "id": "535555f1-6574-4c2c-8359-ebaa79c79207",
   "metadata": {},
   "outputs": [],
   "source": [
    "snow_new['completion_days'] = pd.to_datetime(snow_new['closed_at']) - pd.to_datetime(snow_new['opened_at'])"
   ]
  },
  {
   "cell_type": "markdown",
   "id": "bba90973-a0f1-4c14-b724-b2be58d15081",
   "metadata": {},
   "source": [
    "I guess we can drop the columns incident_state and active also. And since we have already calculated the completion time, we can drop date columns too."
   ]
  },
  {
   "cell_type": "code",
   "execution_count": 402,
   "id": "1fd38fa8-436f-4c65-b082-4def4b82b21f",
   "metadata": {},
   "outputs": [],
   "source": [
    "snow_new.drop(['incident_state','active','resolved_at','closed_at','opened_at'], axis=1,inplace=True)"
   ]
  },
  {
   "cell_type": "code",
   "execution_count": 403,
   "id": "d69ca5b5-3f71-4da0-82bd-e31738af3a6a",
   "metadata": {},
   "outputs": [
    {
     "data": {
      "text/html": [
       "<div>\n",
       "<style scoped>\n",
       "    .dataframe tbody tr th:only-of-type {\n",
       "        vertical-align: middle;\n",
       "    }\n",
       "\n",
       "    .dataframe tbody tr th {\n",
       "        vertical-align: top;\n",
       "    }\n",
       "\n",
       "    .dataframe thead th {\n",
       "        text-align: right;\n",
       "    }\n",
       "</style>\n",
       "<table border=\"1\" class=\"dataframe\">\n",
       "  <thead>\n",
       "    <tr style=\"text-align: right;\">\n",
       "      <th></th>\n",
       "      <th>reassignment_count</th>\n",
       "      <th>reopen_count</th>\n",
       "      <th>sys_mod_count</th>\n",
       "      <th>made_sla</th>\n",
       "      <th>caller_id</th>\n",
       "      <th>opened_by</th>\n",
       "      <th>sys_updated_by</th>\n",
       "      <th>contact_type</th>\n",
       "      <th>location</th>\n",
       "      <th>category</th>\n",
       "      <th>subcategory</th>\n",
       "      <th>u_symptom</th>\n",
       "      <th>priority</th>\n",
       "      <th>assignment_group</th>\n",
       "      <th>assigned_to</th>\n",
       "      <th>knowledge</th>\n",
       "      <th>u_priority_confirmation</th>\n",
       "      <th>closed_code</th>\n",
       "      <th>completion_days</th>\n",
       "    </tr>\n",
       "  </thead>\n",
       "  <tbody>\n",
       "    <tr>\n",
       "      <th>4</th>\n",
       "      <td>0</td>\n",
       "      <td>0</td>\n",
       "      <td>0</td>\n",
       "      <td>True</td>\n",
       "      <td>Caller 2403</td>\n",
       "      <td>Opened by  397</td>\n",
       "      <td>Updated by 746</td>\n",
       "      <td>Phone</td>\n",
       "      <td>Location 165</td>\n",
       "      <td>Category 40</td>\n",
       "      <td>Subcategory 215</td>\n",
       "      <td>Symptom 471</td>\n",
       "      <td>3 - Moderate</td>\n",
       "      <td>Group 70</td>\n",
       "      <td>Resolver 89</td>\n",
       "      <td>True</td>\n",
       "      <td>False</td>\n",
       "      <td>code 5</td>\n",
       "      <td>95 days 05:20:00</td>\n",
       "    </tr>\n",
       "    <tr>\n",
       "      <th>20</th>\n",
       "      <td>0</td>\n",
       "      <td>0</td>\n",
       "      <td>0</td>\n",
       "      <td>True</td>\n",
       "      <td>Caller 4491</td>\n",
       "      <td>Opened by  180</td>\n",
       "      <td>Updated by 340</td>\n",
       "      <td>Phone</td>\n",
       "      <td>Location 204</td>\n",
       "      <td>Category 9</td>\n",
       "      <td>Subcategory 97</td>\n",
       "      <td>Symptom 450</td>\n",
       "      <td>3 - Moderate</td>\n",
       "      <td>Group 25</td>\n",
       "      <td>Resolver 125</td>\n",
       "      <td>True</td>\n",
       "      <td>False</td>\n",
       "      <td>code 3</td>\n",
       "      <td>125 days 06:22:00</td>\n",
       "    </tr>\n",
       "    <tr>\n",
       "      <th>40</th>\n",
       "      <td>0</td>\n",
       "      <td>0</td>\n",
       "      <td>0</td>\n",
       "      <td>True</td>\n",
       "      <td>Caller 2838</td>\n",
       "      <td>Opened by  131</td>\n",
       "      <td>Updated by 265</td>\n",
       "      <td>Phone</td>\n",
       "      <td>Location 143</td>\n",
       "      <td>Category 53</td>\n",
       "      <td>Subcategory 168</td>\n",
       "      <td>Symptom 580</td>\n",
       "      <td>3 - Moderate</td>\n",
       "      <td>Group 70</td>\n",
       "      <td>Resolver 78</td>\n",
       "      <td>True</td>\n",
       "      <td>False</td>\n",
       "      <td>code 6</td>\n",
       "      <td>156 days 09:50:00</td>\n",
       "    </tr>\n",
       "    <tr>\n",
       "      <th>41</th>\n",
       "      <td>0</td>\n",
       "      <td>0</td>\n",
       "      <td>1</td>\n",
       "      <td>True</td>\n",
       "      <td>Caller 2838</td>\n",
       "      <td>Opened by  131</td>\n",
       "      <td>Updated by 265</td>\n",
       "      <td>Phone</td>\n",
       "      <td>Location 143</td>\n",
       "      <td>Category 53</td>\n",
       "      <td>Subcategory 168</td>\n",
       "      <td>Symptom 580</td>\n",
       "      <td>3 - Moderate</td>\n",
       "      <td>Group 70</td>\n",
       "      <td>Resolver 78</td>\n",
       "      <td>True</td>\n",
       "      <td>False</td>\n",
       "      <td>code 6</td>\n",
       "      <td>156 days 09:50:00</td>\n",
       "    </tr>\n",
       "    <tr>\n",
       "      <th>49</th>\n",
       "      <td>0</td>\n",
       "      <td>0</td>\n",
       "      <td>0</td>\n",
       "      <td>True</td>\n",
       "      <td>Caller 5323</td>\n",
       "      <td>Opened by  131</td>\n",
       "      <td>Updated by 265</td>\n",
       "      <td>Phone</td>\n",
       "      <td>Location 108</td>\n",
       "      <td>Category 44</td>\n",
       "      <td>Subcategory 229</td>\n",
       "      <td>Symptom 580</td>\n",
       "      <td>3 - Moderate</td>\n",
       "      <td>Group 5</td>\n",
       "      <td>Resolver 216</td>\n",
       "      <td>True</td>\n",
       "      <td>False</td>\n",
       "      <td>code 1</td>\n",
       "      <td>125 days 08:22:00</td>\n",
       "    </tr>\n",
       "  </tbody>\n",
       "</table>\n",
       "</div>"
      ],
      "text/plain": [
       "    reassignment_count  reopen_count  sys_mod_count  made_sla    caller_id  \\\n",
       "4                    0             0              0      True  Caller 2403   \n",
       "20                   0             0              0      True  Caller 4491   \n",
       "40                   0             0              0      True  Caller 2838   \n",
       "41                   0             0              1      True  Caller 2838   \n",
       "49                   0             0              0      True  Caller 5323   \n",
       "\n",
       "         opened_by  sys_updated_by contact_type      location     category  \\\n",
       "4   Opened by  397  Updated by 746        Phone  Location 165  Category 40   \n",
       "20  Opened by  180  Updated by 340        Phone  Location 204   Category 9   \n",
       "40  Opened by  131  Updated by 265        Phone  Location 143  Category 53   \n",
       "41  Opened by  131  Updated by 265        Phone  Location 143  Category 53   \n",
       "49  Opened by  131  Updated by 265        Phone  Location 108  Category 44   \n",
       "\n",
       "        subcategory    u_symptom      priority assignment_group   assigned_to  \\\n",
       "4   Subcategory 215  Symptom 471  3 - Moderate         Group 70   Resolver 89   \n",
       "20   Subcategory 97  Symptom 450  3 - Moderate         Group 25  Resolver 125   \n",
       "40  Subcategory 168  Symptom 580  3 - Moderate         Group 70   Resolver 78   \n",
       "41  Subcategory 168  Symptom 580  3 - Moderate         Group 70   Resolver 78   \n",
       "49  Subcategory 229  Symptom 580  3 - Moderate          Group 5  Resolver 216   \n",
       "\n",
       "    knowledge  u_priority_confirmation closed_code   completion_days  \n",
       "4        True                    False      code 5  95 days 05:20:00  \n",
       "20       True                    False      code 3 125 days 06:22:00  \n",
       "40       True                    False      code 6 156 days 09:50:00  \n",
       "41       True                    False      code 6 156 days 09:50:00  \n",
       "49       True                    False      code 1 125 days 08:22:00  "
      ]
     },
     "execution_count": 403,
     "metadata": {},
     "output_type": "execute_result"
    }
   ],
   "source": [
    "snow_new.head()"
   ]
  },
  {
   "cell_type": "markdown",
   "id": "d13894c6-d58a-494b-ad6f-c236e81d4d13",
   "metadata": {},
   "source": [
    "##### Lets try to predict the priority of the incidents based on some features. Feature selection is based on my personal experience in the IT Services industry. Even though there are better ways of identifying features by machine learning, e.g. PCA, I do not feel confident yet in applying those procedures on so many categorical variables"
   ]
  },
  {
   "cell_type": "code",
   "execution_count": 404,
   "id": "02ce5f23-9df2-41b2-9809-ee1f186dc36d",
   "metadata": {},
   "outputs": [
    {
     "data": {
      "text/plain": [
       "Index(['reassignment_count', 'reopen_count', 'sys_mod_count', 'made_sla',\n",
       "       'caller_id', 'opened_by', 'sys_updated_by', 'contact_type', 'location',\n",
       "       'category', 'subcategory', 'u_symptom', 'priority', 'assignment_group',\n",
       "       'assigned_to', 'knowledge', 'u_priority_confirmation', 'closed_code',\n",
       "       'completion_days'],\n",
       "      dtype='object')"
      ]
     },
     "execution_count": 404,
     "metadata": {},
     "output_type": "execute_result"
    }
   ],
   "source": [
    "snow_new.columns"
   ]
  },
  {
   "cell_type": "code",
   "execution_count": 405,
   "id": "4ba5c13e-17bd-4da4-93eb-6eb4dfa29088",
   "metadata": {},
   "outputs": [],
   "source": [
    "X = snow_new[['caller_id', 'opened_by', 'sys_updated_by', 'contact_type', 'location', 'category', 'subcategory', 'u_symptom','u_priority_confirmation']]\n",
    "y = snow_new[['priority']]"
   ]
  },
  {
   "cell_type": "markdown",
   "id": "72631b37-be80-41c7-b16a-2fa02d5db768",
   "metadata": {},
   "source": [
    "# Create the model\n",
    "\n",
    "For testing our model, we will use test_train_split to split the data in 70:30 ratio. \n",
    "\n",
    "Accuracy score will determine the performance of the model"
   ]
  },
  {
   "cell_type": "code",
   "execution_count": 406,
   "id": "3132bb13-097a-47c9-bacd-e9ad62c3bf91",
   "metadata": {},
   "outputs": [],
   "source": [
    "from sklearn.preprocessing import LabelEncoder, StandardScaler\n",
    "from sklearn.model_selection import train_test_split\n",
    "from sklearn.metrics import accuracy_score, classification_report, confusion_matrix,f1_score"
   ]
  },
  {
   "cell_type": "code",
   "execution_count": 407,
   "id": "52855635-b2e0-4773-8138-e302964a8c10",
   "metadata": {},
   "outputs": [],
   "source": [
    "pd.options.mode.chained_assignment = None  # default='warn'"
   ]
  },
  {
   "cell_type": "markdown",
   "id": "afa7fb06-79ba-4806-8380-bb81aaee98ea",
   "metadata": {},
   "source": [
    "### Numerical encoding of the data\n",
    "\n",
    "Even though the below form of numerical encoding is a very poor form of encoding as it can confuse a machine learning librabry by assuming weightage. For example opened_by = 397 may get more weight than opened_by = 8. But as of now, this is what I am going to use due to time contraint of project submission"
   ]
  },
  {
   "cell_type": "code",
   "execution_count": 408,
   "id": "24ff2b4d-4191-42a1-bf05-b90d6af8acca",
   "metadata": {},
   "outputs": [],
   "source": [
    "#Numerical encoding\n",
    "for col in ['caller_id', 'opened_by', 'sys_updated_by', 'location', 'category', 'subcategory','u_symptom']:\n",
    "    X[col] = X[col].str.extract('(\\\\d+)').astype(np.int64)\n",
    "\n",
    "# Label Encoding\n",
    "enc= LabelEncoder()\n",
    "for col in ['u_priority_confirmation', 'contact_type']:\n",
    "    X.loc[:,col] = enc.fit_transform(X.loc[:,col])\n",
    "y['priority'] = enc.fit_transform(y['priority'] ).astype(np.int64)"
   ]
  },
  {
   "cell_type": "code",
   "execution_count": 409,
   "id": "dbbff8ca-4578-4532-aa86-650ceb489fcd",
   "metadata": {},
   "outputs": [
    {
     "data": {
      "text/html": [
       "<div>\n",
       "<style scoped>\n",
       "    .dataframe tbody tr th:only-of-type {\n",
       "        vertical-align: middle;\n",
       "    }\n",
       "\n",
       "    .dataframe tbody tr th {\n",
       "        vertical-align: top;\n",
       "    }\n",
       "\n",
       "    .dataframe thead th {\n",
       "        text-align: right;\n",
       "    }\n",
       "</style>\n",
       "<table border=\"1\" class=\"dataframe\">\n",
       "  <thead>\n",
       "    <tr style=\"text-align: right;\">\n",
       "      <th></th>\n",
       "      <th>caller_id</th>\n",
       "      <th>opened_by</th>\n",
       "      <th>sys_updated_by</th>\n",
       "      <th>contact_type</th>\n",
       "      <th>location</th>\n",
       "      <th>category</th>\n",
       "      <th>subcategory</th>\n",
       "      <th>u_symptom</th>\n",
       "      <th>u_priority_confirmation</th>\n",
       "    </tr>\n",
       "  </thead>\n",
       "  <tbody>\n",
       "    <tr>\n",
       "      <th>4</th>\n",
       "      <td>2403</td>\n",
       "      <td>397</td>\n",
       "      <td>746</td>\n",
       "      <td>1</td>\n",
       "      <td>165</td>\n",
       "      <td>40</td>\n",
       "      <td>215</td>\n",
       "      <td>471</td>\n",
       "      <td>0</td>\n",
       "    </tr>\n",
       "    <tr>\n",
       "      <th>20</th>\n",
       "      <td>4491</td>\n",
       "      <td>180</td>\n",
       "      <td>340</td>\n",
       "      <td>1</td>\n",
       "      <td>204</td>\n",
       "      <td>9</td>\n",
       "      <td>97</td>\n",
       "      <td>450</td>\n",
       "      <td>0</td>\n",
       "    </tr>\n",
       "    <tr>\n",
       "      <th>40</th>\n",
       "      <td>2838</td>\n",
       "      <td>131</td>\n",
       "      <td>265</td>\n",
       "      <td>1</td>\n",
       "      <td>143</td>\n",
       "      <td>53</td>\n",
       "      <td>168</td>\n",
       "      <td>580</td>\n",
       "      <td>0</td>\n",
       "    </tr>\n",
       "    <tr>\n",
       "      <th>41</th>\n",
       "      <td>2838</td>\n",
       "      <td>131</td>\n",
       "      <td>265</td>\n",
       "      <td>1</td>\n",
       "      <td>143</td>\n",
       "      <td>53</td>\n",
       "      <td>168</td>\n",
       "      <td>580</td>\n",
       "      <td>0</td>\n",
       "    </tr>\n",
       "    <tr>\n",
       "      <th>49</th>\n",
       "      <td>5323</td>\n",
       "      <td>131</td>\n",
       "      <td>265</td>\n",
       "      <td>1</td>\n",
       "      <td>108</td>\n",
       "      <td>44</td>\n",
       "      <td>229</td>\n",
       "      <td>580</td>\n",
       "      <td>0</td>\n",
       "    </tr>\n",
       "  </tbody>\n",
       "</table>\n",
       "</div>"
      ],
      "text/plain": [
       "    caller_id  opened_by  sys_updated_by  contact_type  location  category  \\\n",
       "4        2403        397             746             1       165        40   \n",
       "20       4491        180             340             1       204         9   \n",
       "40       2838        131             265             1       143        53   \n",
       "41       2838        131             265             1       143        53   \n",
       "49       5323        131             265             1       108        44   \n",
       "\n",
       "    subcategory  u_symptom  u_priority_confirmation  \n",
       "4           215        471                        0  \n",
       "20           97        450                        0  \n",
       "40          168        580                        0  \n",
       "41          168        580                        0  \n",
       "49          229        580                        0  "
      ]
     },
     "execution_count": 409,
     "metadata": {},
     "output_type": "execute_result"
    }
   ],
   "source": [
    "X.head() #Visualize the split data\n",
    "# y.head()"
   ]
  },
  {
   "cell_type": "code",
   "execution_count": 412,
   "id": "7ebeba2f-a333-4a75-85b0-0cc7ccfc166c",
   "metadata": {},
   "outputs": [],
   "source": [
    "#Split the data in train and test\n",
    "X_train, X_test, y_train, y_test = train_test_split(X,y,test_size=0.3,random_state=20)"
   ]
  },
  {
   "cell_type": "code",
   "execution_count": 413,
   "id": "94dabd60-b724-4b80-88c9-61bc67e9bccb",
   "metadata": {},
   "outputs": [],
   "source": [
    "import warnings\n",
    "warnings.filterwarnings('always') "
   ]
  },
  {
   "cell_type": "code",
   "execution_count": 414,
   "id": "af413a47-4de8-4756-bc6b-2f798d340088",
   "metadata": {},
   "outputs": [
    {
     "name": "stdout",
     "output_type": "stream",
     "text": [
      " The baseline of accuracy is 0.030561012879284\n"
     ]
    }
   ],
   "source": [
    "#Establish baseline accuracy\n",
    "print(f' The baseline of accuracy is {accuracy_score(y_test, np.full(y_test.shape, 3))}')\n",
    "# print(classification_report(y_test,np.full(y_test.shape, 3)))"
   ]
  },
  {
   "cell_type": "markdown",
   "id": "797b6fb7-b959-4d26-a4b8-4b087ab86696",
   "metadata": {},
   "source": [
    "Lets check the distribution of incidents with respect to different priority values"
   ]
  },
  {
   "cell_type": "code",
   "execution_count": 415,
   "id": "2b8a713f-9b31-487f-ac1b-825a08cda25d",
   "metadata": {},
   "outputs": [
    {
     "data": {
      "text/plain": [
       "2    9879\n",
       "1     323\n",
       "3     310\n",
       "0     175\n",
       "Name: priority, dtype: int64"
      ]
     },
     "execution_count": 415,
     "metadata": {},
     "output_type": "execute_result"
    }
   ],
   "source": [
    "y_train.priority.value_counts()"
   ]
  },
  {
   "cell_type": "markdown",
   "id": "1eeb2e27-16b4-4721-aec6-071e85d1b65d",
   "metadata": {},
   "source": [
    "As it can be seen that priority = 3 is disproportionately represented, we need some gradient boosting mechanism to overcome this deficiency.\n",
    "\n",
    "We will use a Gradient Boosting classifier to build or model and will base our prediction on that\n",
    "\n",
    "## Gradient Boost Classifier"
   ]
  },
  {
   "cell_type": "code",
   "execution_count": 430,
   "id": "3b968cee-42a8-4236-b447-b0001ba0c940",
   "metadata": {},
   "outputs": [],
   "source": [
    "from xgboost import XGBClassifier\n",
    "from sklearn.model_selection import GridSearchCV\n",
    "from sklearn.metrics import f1_score"
   ]
  },
  {
   "cell_type": "code",
   "execution_count": 417,
   "id": "1736de4d-df61-4482-a461-5d18a00fd29f",
   "metadata": {},
   "outputs": [],
   "source": [
    "m_xgb = XGBClassifier()\n",
    "m_xgb.fit(X_train, y_train)\n",
    "y_predict_xgb = m_xgb.predict(X_test)"
   ]
  },
  {
   "cell_type": "code",
   "execution_count": 420,
   "id": "e672d4c2-b14d-44b8-8276-33e4e49aa915",
   "metadata": {},
   "outputs": [
    {
     "name": "stdout",
     "output_type": "stream",
     "text": [
      "The macro F1 score for initial XGB model:0.8136550631515472\n",
      "              precision    recall  f1-score   support\n",
      "\n",
      "           0       0.89      0.64      0.75        64\n",
      "           1       0.88      0.60      0.72       149\n",
      "           2       0.97      1.00      0.98      4228\n",
      "           3       0.94      0.71      0.81       140\n",
      "\n",
      "    accuracy                           0.97      4581\n",
      "   macro avg       0.92      0.74      0.81      4581\n",
      "weighted avg       0.97      0.97      0.97      4581\n",
      "\n"
     ]
    }
   ],
   "source": [
    "y_predict_xgb = m_xgb.predict(X_test)\n",
    "\n",
    "#The final report is:\n",
    "f1 = f1_score(y_test,y_predict_xgb,average='macro')\n",
    "print(f'The macro F1 score for initial XGB model:{f1}')\n",
    "print(classification_report(y_test,y_predict_xgb))"
   ]
  },
  {
   "cell_type": "markdown",
   "id": "2d3e2dc8-5387-4673-a2ec-cf4013132e0e",
   "metadata": {},
   "source": [
    "##### This seems to be quite a good results already! \n",
    "\n",
    "Let's try to apply some weightage to the classes in order to offset some of the impact of the numerical encoding of the data"
   ]
  },
  {
   "cell_type": "code",
   "execution_count": 421,
   "id": "b93e73dd-d958-4f97-9641-00f8a9b36574",
   "metadata": {},
   "outputs": [],
   "source": [
    "from sklearn.utils import class_weight"
   ]
  },
  {
   "cell_type": "code",
   "execution_count": 422,
   "id": "88365dab-dcb4-495a-a9f4-cd8eee8b54e2",
   "metadata": {},
   "outputs": [
    {
     "data": {
      "text/plain": [
       "XGBClassifier(base_score=None, booster=None, callbacks=None,\n",
       "              colsample_bylevel=None, colsample_bynode=None,\n",
       "              colsample_bytree=None, early_stopping_rounds=None,\n",
       "              enable_categorical=False, eval_metric=None, feature_types=None,\n",
       "              gamma=None, gpu_id=None, grow_policy=None, importance_type=None,\n",
       "              interaction_constraints=None, learning_rate=None, max_bin=None,\n",
       "              max_cat_threshold=None, max_cat_to_onehot=None,\n",
       "              max_delta_step=None, max_depth=None, max_leaves=None,\n",
       "              min_child_weight=None, missing=nan, monotone_constraints=None,\n",
       "              n_estimators=100, n_jobs=None, num_parallel_tree=None,\n",
       "              objective='multi:softprob', predictor=None, ...)"
      ]
     },
     "execution_count": 422,
     "metadata": {},
     "output_type": "execute_result"
    }
   ],
   "source": [
    "class_weights = list(class_weight.compute_class_weight(class_weight='balanced',classes=np.unique(y_train), y=y_train['priority']))\n",
    "\n",
    "\n",
    "weights_array = np.ones(y_train.shape[0], dtype = 'float')\n",
    "for i, val in enumerate(y_train['priority']):\n",
    "    weights_array[i] = class_weights[val-1]\n",
    "\n",
    "xgb_weighted_model = XGBClassifier()   \n",
    "xgb_weighted_model.fit(X_train, y_train,sample_weight=weights_array)"
   ]
  },
  {
   "cell_type": "code",
   "execution_count": 423,
   "id": "66a287b2-f14c-4330-ab95-4a83c3539343",
   "metadata": {},
   "outputs": [
    {
     "name": "stdout",
     "output_type": "stream",
     "text": [
      "The F1 score for the Weighted model:0.738397348804021\n",
      "              precision    recall  f1-score   support\n",
      "\n",
      "           0       0.88      0.67      0.76        64\n",
      "           1       0.81      0.64      0.71       149\n",
      "           2       0.96      0.99      0.98      4228\n",
      "           3       1.00      0.34      0.50       140\n",
      "\n",
      "    accuracy                           0.96      4581\n",
      "   macro avg       0.91      0.66      0.74      4581\n",
      "weighted avg       0.96      0.96      0.95      4581\n",
      "\n"
     ]
    }
   ],
   "source": [
    "y_predict_weighted = xgb_weighted_model.predict(X_test) \n",
    "f1 = f1_score(y_test,y_predict_weighted,average='macro')\n",
    "\n",
    "print(f'The F1 score for the Weighted model:{f1}')\n",
    "print(classification_report(y_test,y_predict_weighted))"
   ]
  },
  {
   "cell_type": "markdown",
   "id": "83e18165-296a-41d4-a2d6-16b27877f597",
   "metadata": {},
   "source": [
    ",\n",
    "\n",
    "### Oops!! The accuracy score went down! Lets do some hyperparameter tuning to find some improvements?\n",
    "\n",
    "\n",
    "##### Since I am going to use grid-search, which is very resource intensive, I will focus on tuning only two parameters. Learning_rate and n_estimators. Let's see how the grid search perform"
   ]
  },
  {
   "cell_type": "code",
   "execution_count": 425,
   "id": "d518efd4-0812-460d-9f14-83bc0078d539",
   "metadata": {},
   "outputs": [],
   "source": [
    "from sklearn.model_selection import StratifiedKFold\n",
    "from sklearn.model_selection import GridSearchCV\n",
    "import datetime"
   ]
  },
  {
   "cell_type": "code",
   "execution_count": 427,
   "id": "9a87f41c-b8f6-4f6c-990c-6523c8fed9d7",
   "metadata": {},
   "outputs": [
    {
     "name": "stdout",
     "output_type": "stream",
     "text": [
      "Start time:  2023-02-13 20:39:45.129885\n",
      ".\n",
      " End time:  2023-02-13 20:57:45.029703\n"
     ]
    }
   ],
   "source": [
    "print('Start time: ',datetime.datetime.now())\n",
    "\n",
    "para_search_grid ={'learning_rate':[0.2, 0.6, 0.8, 1.2], 'n_estimators':[200, 400, 800, 1200]}\n",
    "kfold = StratifiedKFold(n_splits=6, shuffle=True, random_state=10)\n",
    "grid_search = GridSearchCV(xgb_weighted_model, param_grid = para_search_grid, scoring='f1_macro',cv=kfold)\n",
    "grid_search.fit(X_train, y_train,sample_weight=weights_array)\n",
    "\n",
    "print('.\\n End time: ',datetime.datetime.now())"
   ]
  },
  {
   "cell_type": "code",
   "execution_count": 429,
   "id": "89c15634-5c68-4588-9463-57066803b29c",
   "metadata": {},
   "outputs": [
    {
     "name": "stdout",
     "output_type": "stream",
     "text": [
      "{'learning_rate': 0.8, 'n_estimators': 400}\n",
      "The F1 score for XGB_weighted model after 1st tuning:0.7933588218762218\n",
      "              precision    recall  f1-score   support\n",
      "\n",
      "           0       0.78      0.67      0.72        64\n",
      "           1       0.73      0.63      0.68       149\n",
      "           2       0.97      0.99      0.98      4228\n",
      "           3       0.97      0.67      0.79       140\n",
      "\n",
      "    accuracy                           0.96      4581\n",
      "   macro avg       0.86      0.74      0.79      4581\n",
      "weighted avg       0.96      0.96      0.96      4581\n",
      "\n"
     ]
    }
   ],
   "source": [
    "print(grid_search.best_params_)\n",
    "y_decision_fn = grid_search.predict(X_test) \n",
    "f1 = f1_score(y_test,y_decision_fn,average='macro')\n",
    "print(f'The F1 score for XGB_weighted model after 1st tuning:{f1}')\n",
    "print(classification_report(y_test,y_decision_fn))"
   ]
  },
  {
   "cell_type": "markdown",
   "id": "d202496a-e9fb-4bbd-af3e-6bb0f656bb31",
   "metadata": {},
   "source": [
    "It seems 20 minutes of grid search could not find parameters better than the default ones. \n",
    "\n",
    "So, if I have to use this model with the current dataset, or with current approach, I will either use the base model, or put more effort in tuning the hyperparameters.\n",
    "With the time constraint for this project, I am concluding this exercise here.\n",
    "\n",
    "##### This concludes the current scope of this excercise that I undertook. I have some future goals with the dataset (which was the original intention mentioned by the publishers of the data. I will continue to work on those, and if possible publish the results also."
   ]
  }
 ],
 "metadata": {
  "kernelspec": {
   "display_name": "Python 3 (ipykernel)",
   "language": "python",
   "name": "python3"
  },
  "language_info": {
   "codemirror_mode": {
    "name": "ipython",
    "version": 3
   },
   "file_extension": ".py",
   "mimetype": "text/x-python",
   "name": "python",
   "nbconvert_exporter": "python",
   "pygments_lexer": "ipython3",
   "version": "3.9.13"
  }
 },
 "nbformat": 4,
 "nbformat_minor": 5
}
